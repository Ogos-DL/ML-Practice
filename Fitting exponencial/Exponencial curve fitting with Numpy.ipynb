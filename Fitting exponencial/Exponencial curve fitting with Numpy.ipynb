{
 "cells": [
  {
   "cell_type": "code",
   "execution_count": 3,
   "id": "76f31bc9",
   "metadata": {},
   "outputs": [],
   "source": [
    "import numpy as np\n",
    "import pandas as pd\n",
    "import matplotlib.pyplot as plt\n",
    "\n",
    "italy = pd.read_csv(\"italy.csv\", sep=';')"
   ]
  },
  {
   "cell_type": "code",
   "execution_count": 14,
   "id": "4e141f40",
   "metadata": {},
   "outputs": [
    {
     "data": {
      "text/html": [
       "<div>\n",
       "<style scoped>\n",
       "    .dataframe tbody tr th:only-of-type {\n",
       "        vertical-align: middle;\n",
       "    }\n",
       "\n",
       "    .dataframe tbody tr th {\n",
       "        vertical-align: top;\n",
       "    }\n",
       "\n",
       "    .dataframe thead th {\n",
       "        text-align: right;\n",
       "    }\n",
       "</style>\n",
       "<table border=\"1\" class=\"dataframe\">\n",
       "  <thead>\n",
       "    <tr style=\"text-align: right;\">\n",
       "      <th></th>\n",
       "      <th>Date</th>\n",
       "      <th>Total_cases</th>\n",
       "    </tr>\n",
       "  </thead>\n",
       "  <tbody>\n",
       "    <tr>\n",
       "      <th>0</th>\n",
       "      <td>31/12/2019</td>\n",
       "      <td>0</td>\n",
       "    </tr>\n",
       "    <tr>\n",
       "      <th>1</th>\n",
       "      <td>1/1/2020</td>\n",
       "      <td>0</td>\n",
       "    </tr>\n",
       "    <tr>\n",
       "      <th>2</th>\n",
       "      <td>2/1/2020</td>\n",
       "      <td>0</td>\n",
       "    </tr>\n",
       "    <tr>\n",
       "      <th>3</th>\n",
       "      <td>3/1/2020</td>\n",
       "      <td>0</td>\n",
       "    </tr>\n",
       "    <tr>\n",
       "      <th>4</th>\n",
       "      <td>4/1/2020</td>\n",
       "      <td>0</td>\n",
       "    </tr>\n",
       "    <tr>\n",
       "      <th>...</th>\n",
       "      <td>...</td>\n",
       "      <td>...</td>\n",
       "    </tr>\n",
       "    <tr>\n",
       "      <th>76</th>\n",
       "      <td>16/3/2020</td>\n",
       "      <td>23980</td>\n",
       "    </tr>\n",
       "    <tr>\n",
       "      <th>77</th>\n",
       "      <td>17/3/2020</td>\n",
       "      <td>27980</td>\n",
       "    </tr>\n",
       "    <tr>\n",
       "      <th>78</th>\n",
       "      <td>18/3/2020</td>\n",
       "      <td>31506</td>\n",
       "    </tr>\n",
       "    <tr>\n",
       "      <th>79</th>\n",
       "      <td>19/3/2020</td>\n",
       "      <td>35713</td>\n",
       "    </tr>\n",
       "    <tr>\n",
       "      <th>80</th>\n",
       "      <td>20/3/2020</td>\n",
       "      <td>41035</td>\n",
       "    </tr>\n",
       "  </tbody>\n",
       "</table>\n",
       "<p>81 rows × 2 columns</p>\n",
       "</div>"
      ],
      "text/plain": [
       "          Date  Total_cases\n",
       "0   31/12/2019            0\n",
       "1     1/1/2020            0\n",
       "2     2/1/2020            0\n",
       "3     3/1/2020            0\n",
       "4     4/1/2020            0\n",
       "..         ...          ...\n",
       "76   16/3/2020        23980\n",
       "77   17/3/2020        27980\n",
       "78   18/3/2020        31506\n",
       "79   19/3/2020        35713\n",
       "80   20/3/2020        41035\n",
       "\n",
       "[81 rows x 2 columns]"
      ]
     },
     "execution_count": 14,
     "metadata": {},
     "output_type": "execute_result"
    }
   ],
   "source": [
    "df = pd.DataFrame(italy)\n",
    "df.columns = [\"Date\",\"Total_cases\"]\n",
    "df"
   ]
  },
  {
   "cell_type": "code",
   "execution_count": 5,
   "id": "19065349",
   "metadata": {},
   "outputs": [
    {
     "name": "stdout",
     "output_type": "stream",
     "text": [
      "[ 1  2  3  4  5  6  7  8  9 10 11 12 13 14 15 16 17 18 19 20 21 22 23 24\n",
      " 25 26 27 28 29 30 31 32 33 34 35 36 37 38 39 40 41 42 43 44 45 46 47 48\n",
      " 49 50 51 52 53 54 55 56 57 58 59 60 61 62 63 64 65 66 67 68 69 70 71 72\n",
      " 73 74 75 76 77 78 79 80 81]\n",
      "[1.00000000e-06 1.00000000e-06 1.00000000e-06 1.00000000e-06\n",
      " 1.00000000e-06 1.00000000e-06 1.00000000e-06 1.00000000e-06\n",
      " 1.00000000e-06 1.00000000e-06 1.00000000e-06 1.00000000e-06\n",
      " 1.00000000e-06 1.00000000e-06 1.00000000e-06 1.00000000e-06\n",
      " 1.00000000e-06 1.00000000e-06 1.00000000e-06 1.00000000e-06\n",
      " 1.00000000e-06 1.00000000e-06 1.00000000e-06 1.00000000e-06\n",
      " 1.00000000e-06 1.00000000e-06 1.00000000e-06 1.00000000e-06\n",
      " 1.00000000e-06 1.00000000e-06 1.00000000e-06 3.00000100e+00\n",
      " 3.00000100e+00 3.00000100e+00 3.00000100e+00 3.00000100e+00\n",
      " 3.00000100e+00 3.00000100e+00 3.00000100e+00 3.00000100e+00\n",
      " 3.00000100e+00 3.00000100e+00 3.00000100e+00 3.00000100e+00\n",
      " 3.00000100e+00 3.00000100e+00 3.00000100e+00 3.00000100e+00\n",
      " 3.00000100e+00 3.00000100e+00 3.00000100e+00 3.00000100e+00\n",
      " 3.00000100e+00 1.70000010e+01 7.90000010e+01 1.32000001e+02\n",
      " 2.29000001e+02 3.22000001e+02 4.00000001e+02 6.50000001e+02\n",
      " 8.88000001e+02 1.12800000e+03 1.68900000e+03 2.03600000e+03\n",
      " 2.50200000e+03 3.08900000e+03 3.85800000e+03 4.63600000e+03\n",
      " 5.88300000e+03 7.37500000e+03 9.17200000e+03 1.01490000e+04\n",
      " 1.24620000e+04 1.51130000e+04 1.76600000e+04 2.11570000e+04\n",
      " 2.39800000e+04 2.79800000e+04 3.15060000e+04 3.57130000e+04\n",
      " 4.10350000e+04]\n"
     ]
    }
   ],
   "source": [
    "#We transform y and x in a numpy array and avoid y = 0.\n",
    "y = np.array(df[\"Total_cases\"])\n",
    "y_c = y + 0.000001\n",
    "x = np.arange(1,len(y)+1)\n",
    "print(x)\n",
    "print(y_c)"
   ]
  },
  {
   "cell_type": "code",
   "execution_count": 15,
   "id": "aa3adf5e",
   "metadata": {},
   "outputs": [
    {
     "data": {
      "text/plain": [
       "<matplotlib.collections.PathCollection at 0x1799ec92520>"
      ]
     },
     "execution_count": 15,
     "metadata": {},
     "output_type": "execute_result"
    },
    {
     "data": {
      "image/png": "[encoded data removed]",
      "text/plain": [
       "<Figure size 432x288 with 1 Axes>"
      ]
     },
     "metadata": {
      "needs_background": "light"
     },
     "output_type": "display_data"
    }
   ],
   "source": [
    "#Then we plot x and y to see what curve would be a good fit\n",
    "plt.scatter(x, y, c =\"blue\")"
   ]
  },
  {
   "cell_type": "code",
   "execution_count": 16,
   "id": "fb54edf1",
   "metadata": {},
   "outputs": [
    {
     "name": "stdout",
     "output_type": "stream",
     "text": [
      "[  0.38650918 -18.07411784]\n"
     ]
    }
   ],
   "source": [
    "#Let's try fitting and exponencial curve\n",
    "ylog = np.log(y_c)\n",
    "\n",
    "curve_fit = np.polyfit(x, ylog, 1)\n",
    "print(curve_fit)"
   ]
  },
  {
   "cell_type": "code",
   "execution_count": 8,
   "id": "be4e8d27",
   "metadata": {},
   "outputs": [
    {
     "data": {
      "text/plain": [
       "<matplotlib.collections.PathCollection at 0x1799ebf1b20>"
      ]
     },
     "execution_count": 8,
     "metadata": {},
     "output_type": "execute_result"
    },
    {
     "data": {
      "image/png": "[encoded data removed]",
      "text/plain": [
       "<Figure size 432x288 with 1 Axes>"
      ]
     },
     "metadata": {
      "needs_background": "light"
     },
     "output_type": "display_data"
    }
   ],
   "source": [
    "#Let's plot the points and the fitted curve\n",
    "\n",
    "curve_y = np.exp(curve_fit[1]) * np.exp(curve_fit[0]*x)\n",
    "plt.plot(x,curve_y)\n",
    "plt.scatter(x, y, c =\"blue\")"
   ]
  },
  {
   "cell_type": "code",
   "execution_count": 9,
   "id": "b157d217",
   "metadata": {},
   "outputs": [
    {
     "name": "stdout",
     "output_type": "stream",
     "text": [
      "517529.73082553083\n"
     ]
    }
   ],
   "source": [
    "result = np.exp(curve_fit[1]) * np.exp(curve_fit[0]*x[-1]) - y_c[-1]\n",
    "print(result)"
   ]
  },
  {
   "cell_type": "code",
   "execution_count": 12,
   "id": "e2e0cd46",
   "metadata": {},
   "outputs": [],
   "source": [
    "def compute_cost(x, y, w, b): \n",
    "    \"\"\"\n",
    "    Computes the cost function for the fitted curve.\n",
    "    \n",
    "    Args:\n",
    "      x (ndarray (m,)): Data, m examples \n",
    "      y (ndarray (m,)): target values\n",
    "      w,b (scalar)    : model parameters  \n",
    "    \n",
    "    Returns\n",
    "        total_cost (float): The cost of using w,b as the parameters for linear regression\n",
    "               to fit the data points in x and y\n",
    "    \"\"\"\n",
    "    # number of training examples\n",
    "    m = x.shape[0] \n",
    "    \n",
    "    cost_sum = 0 \n",
    "    for i in range(m): \n",
    "        f_wb = np.exp(w) * np.exp(b*x[i])    \n",
    "        cost = (f_wb - y[i]) ** 2  \n",
    "        cost_sum = cost_sum + cost  \n",
    "    total_cost = (1 / (2 * m)) * cost_sum  \n",
    "\n",
    "    return total_cost"
   ]
  },
  {
   "cell_type": "code",
   "execution_count": 17,
   "id": "5406023b",
   "metadata": {},
   "outputs": [
    {
     "name": "stdout",
     "output_type": "stream",
     "text": [
      "2923724872.419412\n"
     ]
    }
   ],
   "source": [
    "print(compute_cost(x,y,curve_fit[1],curve_fit[0]))"
   ]
  },
  {
   "cell_type": "code",
   "execution_count": null,
   "id": "1a36245b",
   "metadata": {},
   "outputs": [],
   "source": [
    "#For this model, cost seems very high. Mainly because of the last points were we see the curve is far from the points."
   ]
  }
 ],
 "metadata": {
  "kernelspec": {
   "display_name": "Python 3 (ipykernel)",
   "language": "python",
   "name": "python3"
  },
  "language_info": {
   "codemirror_mode": {
    "name": "ipython",
    "version": 3
   },
   "file_extension": ".py",
   "mimetype": "text/x-python",
   "name": "python",
   "nbconvert_exporter": "python",
   "pygments_lexer": "ipython3",
   "version": "3.9.7"
  }
 },
 "nbformat": 4,
 "nbformat_minor": 5
}
