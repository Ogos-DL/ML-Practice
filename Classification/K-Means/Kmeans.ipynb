{
 "cells": [
  {
   "cell_type": "markdown",
   "id": "58859365",
   "metadata": {},
   "source": [
    "# K-Means implementation of a Kaggle dataset"
   ]
  },
  {
   "cell_type": "code",
   "execution_count": 48,
   "id": "1e1b1ffd",
   "metadata": {},
   "outputs": [],
   "source": [
    "from sklearn.cluster import KMeans\n",
    "import numpy as np\n",
    "import pandas as pd\n",
    "import matplotlib.pyplot as plt\n",
    "from sklearn.metrics import accuracy_score"
   ]
  },
  {
   "cell_type": "code",
   "execution_count": 49,
   "id": "845359f3",
   "metadata": {},
   "outputs": [
    {
     "data": {
      "text/html": [
       "<div>\n",
       "<style scoped>\n",
       "    .dataframe tbody tr th:only-of-type {\n",
       "        vertical-align: middle;\n",
       "    }\n",
       "\n",
       "    .dataframe tbody tr th {\n",
       "        vertical-align: top;\n",
       "    }\n",
       "\n",
       "    .dataframe thead th {\n",
       "        text-align: right;\n",
       "    }\n",
       "</style>\n",
       "<table border=\"1\" class=\"dataframe\">\n",
       "  <thead>\n",
       "    <tr style=\"text-align: right;\">\n",
       "      <th></th>\n",
       "      <th>x</th>\n",
       "      <th>y</th>\n",
       "      <th>color</th>\n",
       "    </tr>\n",
       "  </thead>\n",
       "  <tbody>\n",
       "    <tr>\n",
       "      <th>0</th>\n",
       "      <td>516.012706</td>\n",
       "      <td>393.014514</td>\n",
       "      <td>0</td>\n",
       "    </tr>\n",
       "    <tr>\n",
       "      <th>1</th>\n",
       "      <td>436.211762</td>\n",
       "      <td>408.656585</td>\n",
       "      <td>0</td>\n",
       "    </tr>\n",
       "    <tr>\n",
       "      <th>2</th>\n",
       "      <td>512.052601</td>\n",
       "      <td>372.022014</td>\n",
       "      <td>0</td>\n",
       "    </tr>\n",
       "    <tr>\n",
       "      <th>3</th>\n",
       "      <td>489.140464</td>\n",
       "      <td>401.807159</td>\n",
       "      <td>0</td>\n",
       "    </tr>\n",
       "    <tr>\n",
       "      <th>4</th>\n",
       "      <td>446.207986</td>\n",
       "      <td>338.516682</td>\n",
       "      <td>0</td>\n",
       "    </tr>\n",
       "    <tr>\n",
       "      <th>...</th>\n",
       "      <td>...</td>\n",
       "      <td>...</td>\n",
       "      <td>...</td>\n",
       "    </tr>\n",
       "    <tr>\n",
       "      <th>331</th>\n",
       "      <td>638.916471</td>\n",
       "      <td>323.569096</td>\n",
       "      <td>1</td>\n",
       "    </tr>\n",
       "    <tr>\n",
       "      <th>332</th>\n",
       "      <td>542.005901</td>\n",
       "      <td>347.527070</td>\n",
       "      <td>0</td>\n",
       "    </tr>\n",
       "    <tr>\n",
       "      <th>333</th>\n",
       "      <td>611.964612</td>\n",
       "      <td>377.254978</td>\n",
       "      <td>0</td>\n",
       "    </tr>\n",
       "    <tr>\n",
       "      <th>334</th>\n",
       "      <td>520.654168</td>\n",
       "      <td>455.996453</td>\n",
       "      <td>0</td>\n",
       "    </tr>\n",
       "    <tr>\n",
       "      <th>335</th>\n",
       "      <td>594.479314</td>\n",
       "      <td>392.901455</td>\n",
       "      <td>0</td>\n",
       "    </tr>\n",
       "  </tbody>\n",
       "</table>\n",
       "<p>336 rows × 3 columns</p>\n",
       "</div>"
      ],
      "text/plain": [
       "              x           y  color\n",
       "0    516.012706  393.014514      0\n",
       "1    436.211762  408.656585      0\n",
       "2    512.052601  372.022014      0\n",
       "3    489.140464  401.807159      0\n",
       "4    446.207986  338.516682      0\n",
       "..          ...         ...    ...\n",
       "331  638.916471  323.569096      1\n",
       "332  542.005901  347.527070      0\n",
       "333  611.964612  377.254978      0\n",
       "334  520.654168  455.996453      0\n",
       "335  594.479314  392.901455      0\n",
       "\n",
       "[336 rows x 3 columns]"
      ]
     },
     "execution_count": 49,
     "metadata": {},
     "output_type": "execute_result"
    }
   ],
   "source": [
    "clustering_data = pd.read_csv(\"clustering_data.csv\", sep=',')\n",
    "df_clustering_data = pd.DataFrame(clustering_data)\n",
    "df_clustering_data"
   ]
  },
  {
   "cell_type": "code",
   "execution_count": 50,
   "id": "7e9773b4",
   "metadata": {},
   "outputs": [
    {
     "name": "stdout",
     "output_type": "stream",
     "text": [
      "(336, 2)\n",
      "(336,)\n"
     ]
    }
   ],
   "source": [
    "X = np.array(df_clustering_data[[\"x\",\"y\"]])\n",
    "\n",
    "Y = np.array(df_clustering_data[\"color\"])\n",
    "\n",
    "print(X.shape)\n",
    "print(Y.shape)"
   ]
  },
  {
   "cell_type": "code",
   "execution_count": 51,
   "id": "00226786",
   "metadata": {},
   "outputs": [
    {
     "data": {
      "text/plain": [
       "<matplotlib.collections.PathCollection at 0x1d8c2220b20>"
      ]
     },
     "execution_count": 51,
     "metadata": {},
     "output_type": "execute_result"
    },
    {
     "data": {
      "image/png": "[encoded data removed]",
      "text/plain": [
       "<Figure size 432x288 with 1 Axes>"
      ]
     },
     "metadata": {
      "needs_background": "light"
     },
     "output_type": "display_data"
    }
   ],
   "source": [
    "plt.scatter(X[:,0],X[:,1], c =\"blue\")"
   ]
  },
  {
   "cell_type": "code",
   "execution_count": 52,
   "id": "a5c429b1",
   "metadata": {},
   "outputs": [
    {
     "name": "stderr",
     "output_type": "stream",
     "text": [
      "C:\\Users\\augus\\anaconda3\\lib\\site-packages\\sklearn\\cluster\\_kmeans.py:1332: UserWarning: KMeans is known to have a memory leak on Windows with MKL, when there are less chunks than available threads. You can avoid it by setting the environment variable OMP_NUM_THREADS=2.\n",
      "  warnings.warn(\n"
     ]
    },
    {
     "name": "stdout",
     "output_type": "stream",
     "text": [
      "(336,)\n",
      "[[480.60429976 385.44506433]\n",
      " [625.47828017 262.80438639]\n",
      " [637.75071074 398.6318426 ]]\n"
     ]
    }
   ],
   "source": [
    "kmeans = KMeans(n_clusters=3, random_state=0, n_init=20).fit(X)\n",
    "print(kmeans.labels_.shape)\n",
    "print(kmeans.cluster_centers_)"
   ]
  },
  {
   "cell_type": "code",
   "execution_count": 53,
   "id": "604e55b9",
   "metadata": {},
   "outputs": [],
   "source": [
    "one = kmeans.cluster_centers_[0]\n",
    "two = kmeans.cluster_centers_[1]\n",
    "three = kmeans.cluster_centers_[2]"
   ]
  },
  {
   "cell_type": "code",
   "execution_count": 54,
   "id": "432424c8",
   "metadata": {},
   "outputs": [],
   "source": [
    "X = np.array(df_clustering_data[[\"x\",\"y\"]])"
   ]
  },
  {
   "cell_type": "code",
   "execution_count": 55,
   "id": "7271522d",
   "metadata": {},
   "outputs": [
    {
     "data": {
      "text/plain": [
       "<matplotlib.collections.PathCollection at 0x1d8c1984070>"
      ]
     },
     "execution_count": 55,
     "metadata": {},
     "output_type": "execute_result"
    },
    {
     "data": {
      "image/png": "[encoded data removed]",
      "text/plain": [
       "<Figure size 432x288 with 1 Axes>"
      ]
     },
     "metadata": {
      "needs_background": "light"
     },
     "output_type": "display_data"
    }
   ],
   "source": [
    "plt.scatter(X[:,0],X[:,1], c =\"blue\")\n",
    "plt.scatter(one[0],one[1], c =\"red\")\n",
    "plt.scatter(two[0],two[1], c =\"orange\")\n",
    "plt.scatter(three[0],three[1], c =\"green\")"
   ]
  },
  {
   "cell_type": "code",
   "execution_count": 63,
   "id": "381d84df",
   "metadata": {},
   "outputs": [
    {
     "name": "stdout",
     "output_type": "stream",
     "text": [
      "model accuracy is:  97.62\n"
     ]
    }
   ],
   "source": [
    "y_hat = kmeans.labels_\n",
    "Y = np.array(df_clustering_data[\"color\"])\n",
    "\n",
    "score = accuracy_score(Y,kmeans.labels_)\n",
    "print(\"Model accuracy is: \",round(score*100,2))"
   ]
  },
  {
   "cell_type": "markdown",
   "id": "ad25aee0",
   "metadata": {},
   "source": [
    "#### We achieved a K-means model with a good accuracy! Sklearn allows to implement complex modes with few lines of code. Great!"
   ]
  },
  {
   "cell_type": "code",
   "execution_count": null,
   "id": "9dc52daa",
   "metadata": {},
   "outputs": [],
   "source": []
  },
  {
   "cell_type": "code",
   "execution_count": null,
   "id": "7b34095d",
   "metadata": {},
   "outputs": [],
   "source": []
  }
 ],
 "metadata": {
  "kernelspec": {
   "display_name": "Python 3 (ipykernel)",
   "language": "python",
   "name": "python3"
  },
  "language_info": {
   "codemirror_mode": {
    "name": "ipython",
    "version": 3
   },
   "file_extension": ".py",
   "mimetype": "text/x-python",
   "name": "python",
   "nbconvert_exporter": "python",
   "pygments_lexer": "ipython3",
   "version": "3.9.7"
  }
 },
 "nbformat": 4,
 "nbformat_minor": 5
}
